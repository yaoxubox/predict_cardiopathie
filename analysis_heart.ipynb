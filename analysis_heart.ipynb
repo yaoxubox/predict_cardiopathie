{
 "cells": [
  {
   "cell_type": "markdown",
   "metadata": {
    "toc": true
   },
   "source": [
    "<h1>Table of Contents<span class=\"tocSkip\"></span></h1>\n",
    "<div class=\"toc\"><ul class=\"toc-item\"><li><span><a href=\"#Introduction\" data-toc-modified-id=\"Introduction-1\"><span class=\"toc-item-num\">1&nbsp;&nbsp;</span>Introduction</a></span></li><li><span><a href=\"#Loading-data\" data-toc-modified-id=\"Loading-data-2\"><span class=\"toc-item-num\">2&nbsp;&nbsp;</span>Loading data</a></span><ul class=\"toc-item\"><li><span><a href=\"#importing-basic-librairies\" data-toc-modified-id=\"importing-basic-librairies-2.1\"><span class=\"toc-item-num\">2.1&nbsp;&nbsp;</span>importing basic librairies</a></span></li><li><span><a href=\"#reading-the-dataset\" data-toc-modified-id=\"reading-the-dataset-2.2\"><span class=\"toc-item-num\">2.2&nbsp;&nbsp;</span>reading the dataset</a></span></li></ul></li><li><span><a href=\"#Data-Cleaning\" data-toc-modified-id=\"Data-Cleaning-3\"><span class=\"toc-item-num\">3&nbsp;&nbsp;</span>Data Cleaning</a></span></li><li><span><a href=\"#Dataset-spliting\" data-toc-modified-id=\"Dataset-spliting-4\"><span class=\"toc-item-num\">4&nbsp;&nbsp;</span>Dataset spliting</a></span></li><li><span><a href=\"#Rescaling-dataset\" data-toc-modified-id=\"Rescaling-dataset-5\"><span class=\"toc-item-num\">5&nbsp;&nbsp;</span>Rescaling dataset</a></span></li><li><span><a href=\"#Basic-EDA\" data-toc-modified-id=\"Basic-EDA-6\"><span class=\"toc-item-num\">6&nbsp;&nbsp;</span>Basic EDA</a></span></li><li><span><a href=\"#Feature-Selecting\" data-toc-modified-id=\"Feature-Selecting-7\"><span class=\"toc-item-num\">7&nbsp;&nbsp;</span>Feature Selecting</a></span><ul class=\"toc-item\"><li><span><a href=\"#by-coefficient-correlations\" data-toc-modified-id=\"by-coefficient-correlations-7.1\"><span class=\"toc-item-num\">7.1&nbsp;&nbsp;</span>by coefficient correlations</a></span></li><li><span><a href=\"#by-PCA\" data-toc-modified-id=\"by-PCA-7.2\"><span class=\"toc-item-num\">7.2&nbsp;&nbsp;</span>by PCA</a></span></li><li><span><a href=\"#by-chi-test\" data-toc-modified-id=\"by-chi-test-7.3\"><span class=\"toc-item-num\">7.3&nbsp;&nbsp;</span>by chi test</a></span></li><li><span><a href=\"#by-RandomizedLogisticRegression\" data-toc-modified-id=\"by-RandomizedLogisticRegression-7.4\"><span class=\"toc-item-num\">7.4&nbsp;&nbsp;</span>by RandomizedLogisticRegression</a></span></li></ul></li><li><span><a href=\"#Model-logisticregression\" data-toc-modified-id=\"Model-logisticregression-8\"><span class=\"toc-item-num\">8&nbsp;&nbsp;</span>Model logisticregression</a></span><ul class=\"toc-item\"><li><span><a href=\"#features-selected-by-logistic-regression\" data-toc-modified-id=\"features-selected-by-logistic-regression-8.1\"><span class=\"toc-item-num\">8.1&nbsp;&nbsp;</span>features selected by logistic regression</a></span></li><li><span><a href=\"#evaluate-the-model-of-data-with-ROC-curve\" data-toc-modified-id=\"evaluate-the-model-of-data-with-ROC-curve-8.2\"><span class=\"toc-item-num\">8.2&nbsp;&nbsp;</span>evaluate the model of data with ROC curve</a></span></li><li><span><a href=\"#evaluate-the-model-of-data-with-lift-curve\" data-toc-modified-id=\"evaluate-the-model-of-data-with-lift-curve-8.3\"><span class=\"toc-item-num\">8.3&nbsp;&nbsp;</span>evaluate the model of data with lift curve</a></span></li><li><span><a href=\"#features-selected-by-logistic-regression\" data-toc-modified-id=\"features-selected-by-logistic-regression-8.4\"><span class=\"toc-item-num\">8.4&nbsp;&nbsp;</span>features selected by logistic regression</a></span></li></ul></li></ul></div>"
   ]
  },
  {
   "cell_type": "markdown",
   "metadata": {},
   "source": [
    "## Introduction\n",
    "This project is about the classification of cardiologist. we create the model for detect the patient has a ischemic disease or not. "
   ]
  },
  {
   "cell_type": "markdown",
   "metadata": {},
   "source": [
    "## Loading data"
   ]
  },
  {
   "cell_type": "markdown",
   "metadata": {},
   "source": [
    "### importing basic librairies"
   ]
  },
  {
   "cell_type": "code",
   "execution_count": 28,
   "metadata": {},
   "outputs": [],
   "source": [
    "import numpy as np \n",
    "import matplotlib.pyplot as plt \n",
    "import pandas as pd\n",
    "import warnings\n",
    "warnings.filterwarnings('ignore')\n",
    "%matplotlib inline"
   ]
  },
  {
   "cell_type": "markdown",
   "metadata": {},
   "source": [
    "### reading the dataset"
   ]
  },
  {
   "cell_type": "code",
   "execution_count": 29,
   "metadata": {},
   "outputs": [
    {
     "name": "stdout",
     "output_type": "stream",
     "text": [
      "Number of data points in dataset: 303\n",
      "Number of features in datset: 13\n"
     ]
    }
   ],
   "source": [
    "df = pd.read_csv('heart.csv')\n",
    "df.head()\n",
    "v = df.shape[1]-1\n",
    "print(\"Number of data points in dataset: %d\" % df.shape[0])\n",
    "print(\"Number of features in datset: %d\" % v)"
   ]
  },
  {
   "cell_type": "markdown",
   "metadata": {},
   "source": [
    "The data set contains following features:\n",
    "<br> 1.age: the age of the person in years\n",
    "<br> 2.sex: female or male\n",
    "<br> 3.cp: chest pain,modalities (asymptomatic(0), atypical chest pain(1), typical chest doubler(2), other pain(3))\n",
    "<br> 4.trestbps: arterial pressure at the clinical exam \n",
    "<br> 5.chol: blood cholesterol value (blood test)\n",
    "<br> 6.fbs: gycemieajeun(normal or anormal)\n",
    "<br> 7.restecg: EGC(normal or anormal)\n",
    "<br> 8.thalach: maximum heart rate on the exam\n",
    "<br> 9.exang: PainEffort: 0 (no) if the patient does not feel pain on exertion, 1 (yes) otherwise.\n",
    "<br> 10.oldpeak: numeric value quantifying a sign at the ECG\n",
    "<br> 11.slope: sign at the ECG taking 3 modalities: 0, 1 or 2\n",
    "<br> 12.ca:Visible vessels: number of large blood vessels visible on a radiological examination\n",
    "<br> 13.thal:\n",
    "<br> 14.target: target classes"
   ]
  },
  {
   "cell_type": "markdown",
   "metadata": {},
   "source": [
    "## Data Cleaning "
   ]
  },
  {
   "cell_type": "markdown",
   "metadata": {},
   "source": [
    "from the description dataset, there is no nan in dataset.  "
   ]
  },
  {
   "cell_type": "code",
   "execution_count": 30,
   "metadata": {},
   "outputs": [
    {
     "data": {
      "text/html": [
       "<div>\n",
       "<style scoped>\n",
       "    .dataframe tbody tr th:only-of-type {\n",
       "        vertical-align: middle;\n",
       "    }\n",
       "\n",
       "    .dataframe tbody tr th {\n",
       "        vertical-align: top;\n",
       "    }\n",
       "\n",
       "    .dataframe thead th {\n",
       "        text-align: right;\n",
       "    }\n",
       "</style>\n",
       "<table border=\"1\" class=\"dataframe\">\n",
       "  <thead>\n",
       "    <tr style=\"text-align: right;\">\n",
       "      <th></th>\n",
       "      <th>age</th>\n",
       "      <th>sex</th>\n",
       "      <th>cp</th>\n",
       "      <th>trestbps</th>\n",
       "      <th>chol</th>\n",
       "      <th>fbs</th>\n",
       "      <th>restecg</th>\n",
       "      <th>thalach</th>\n",
       "      <th>exang</th>\n",
       "      <th>oldpeak</th>\n",
       "      <th>slope</th>\n",
       "      <th>ca</th>\n",
       "      <th>thal</th>\n",
       "      <th>target</th>\n",
       "    </tr>\n",
       "  </thead>\n",
       "  <tbody>\n",
       "    <tr>\n",
       "      <th>count</th>\n",
       "      <td>303.000000</td>\n",
       "      <td>303.000000</td>\n",
       "      <td>303.000000</td>\n",
       "      <td>303.000000</td>\n",
       "      <td>303.000000</td>\n",
       "      <td>303.000000</td>\n",
       "      <td>303.000000</td>\n",
       "      <td>303.000000</td>\n",
       "      <td>303.000000</td>\n",
       "      <td>303.000000</td>\n",
       "      <td>303.000000</td>\n",
       "      <td>303.000000</td>\n",
       "      <td>303.000000</td>\n",
       "      <td>303.000000</td>\n",
       "    </tr>\n",
       "    <tr>\n",
       "      <th>mean</th>\n",
       "      <td>54.366337</td>\n",
       "      <td>0.683168</td>\n",
       "      <td>0.966997</td>\n",
       "      <td>131.623762</td>\n",
       "      <td>246.264026</td>\n",
       "      <td>0.148515</td>\n",
       "      <td>0.528053</td>\n",
       "      <td>149.646865</td>\n",
       "      <td>0.326733</td>\n",
       "      <td>1.039604</td>\n",
       "      <td>1.399340</td>\n",
       "      <td>0.729373</td>\n",
       "      <td>2.313531</td>\n",
       "      <td>0.544554</td>\n",
       "    </tr>\n",
       "    <tr>\n",
       "      <th>std</th>\n",
       "      <td>9.082101</td>\n",
       "      <td>0.466011</td>\n",
       "      <td>1.032052</td>\n",
       "      <td>17.538143</td>\n",
       "      <td>51.830751</td>\n",
       "      <td>0.356198</td>\n",
       "      <td>0.525860</td>\n",
       "      <td>22.905161</td>\n",
       "      <td>0.469794</td>\n",
       "      <td>1.161075</td>\n",
       "      <td>0.616226</td>\n",
       "      <td>1.022606</td>\n",
       "      <td>0.612277</td>\n",
       "      <td>0.498835</td>\n",
       "    </tr>\n",
       "    <tr>\n",
       "      <th>min</th>\n",
       "      <td>29.000000</td>\n",
       "      <td>0.000000</td>\n",
       "      <td>0.000000</td>\n",
       "      <td>94.000000</td>\n",
       "      <td>126.000000</td>\n",
       "      <td>0.000000</td>\n",
       "      <td>0.000000</td>\n",
       "      <td>71.000000</td>\n",
       "      <td>0.000000</td>\n",
       "      <td>0.000000</td>\n",
       "      <td>0.000000</td>\n",
       "      <td>0.000000</td>\n",
       "      <td>0.000000</td>\n",
       "      <td>0.000000</td>\n",
       "    </tr>\n",
       "    <tr>\n",
       "      <th>25%</th>\n",
       "      <td>47.500000</td>\n",
       "      <td>0.000000</td>\n",
       "      <td>0.000000</td>\n",
       "      <td>120.000000</td>\n",
       "      <td>211.000000</td>\n",
       "      <td>0.000000</td>\n",
       "      <td>0.000000</td>\n",
       "      <td>133.500000</td>\n",
       "      <td>0.000000</td>\n",
       "      <td>0.000000</td>\n",
       "      <td>1.000000</td>\n",
       "      <td>0.000000</td>\n",
       "      <td>2.000000</td>\n",
       "      <td>0.000000</td>\n",
       "    </tr>\n",
       "    <tr>\n",
       "      <th>50%</th>\n",
       "      <td>55.000000</td>\n",
       "      <td>1.000000</td>\n",
       "      <td>1.000000</td>\n",
       "      <td>130.000000</td>\n",
       "      <td>240.000000</td>\n",
       "      <td>0.000000</td>\n",
       "      <td>1.000000</td>\n",
       "      <td>153.000000</td>\n",
       "      <td>0.000000</td>\n",
       "      <td>0.800000</td>\n",
       "      <td>1.000000</td>\n",
       "      <td>0.000000</td>\n",
       "      <td>2.000000</td>\n",
       "      <td>1.000000</td>\n",
       "    </tr>\n",
       "    <tr>\n",
       "      <th>75%</th>\n",
       "      <td>61.000000</td>\n",
       "      <td>1.000000</td>\n",
       "      <td>2.000000</td>\n",
       "      <td>140.000000</td>\n",
       "      <td>274.500000</td>\n",
       "      <td>0.000000</td>\n",
       "      <td>1.000000</td>\n",
       "      <td>166.000000</td>\n",
       "      <td>1.000000</td>\n",
       "      <td>1.600000</td>\n",
       "      <td>2.000000</td>\n",
       "      <td>1.000000</td>\n",
       "      <td>3.000000</td>\n",
       "      <td>1.000000</td>\n",
       "    </tr>\n",
       "    <tr>\n",
       "      <th>max</th>\n",
       "      <td>77.000000</td>\n",
       "      <td>1.000000</td>\n",
       "      <td>3.000000</td>\n",
       "      <td>200.000000</td>\n",
       "      <td>564.000000</td>\n",
       "      <td>1.000000</td>\n",
       "      <td>2.000000</td>\n",
       "      <td>202.000000</td>\n",
       "      <td>1.000000</td>\n",
       "      <td>6.200000</td>\n",
       "      <td>2.000000</td>\n",
       "      <td>4.000000</td>\n",
       "      <td>3.000000</td>\n",
       "      <td>1.000000</td>\n",
       "    </tr>\n",
       "  </tbody>\n",
       "</table>\n",
       "</div>"
      ],
      "text/plain": [
       "              age         sex          cp    trestbps        chol         fbs  \\\n",
       "count  303.000000  303.000000  303.000000  303.000000  303.000000  303.000000   \n",
       "mean    54.366337    0.683168    0.966997  131.623762  246.264026    0.148515   \n",
       "std      9.082101    0.466011    1.032052   17.538143   51.830751    0.356198   \n",
       "min     29.000000    0.000000    0.000000   94.000000  126.000000    0.000000   \n",
       "25%     47.500000    0.000000    0.000000  120.000000  211.000000    0.000000   \n",
       "50%     55.000000    1.000000    1.000000  130.000000  240.000000    0.000000   \n",
       "75%     61.000000    1.000000    2.000000  140.000000  274.500000    0.000000   \n",
       "max     77.000000    1.000000    3.000000  200.000000  564.000000    1.000000   \n",
       "\n",
       "          restecg     thalach       exang     oldpeak       slope          ca  \\\n",
       "count  303.000000  303.000000  303.000000  303.000000  303.000000  303.000000   \n",
       "mean     0.528053  149.646865    0.326733    1.039604    1.399340    0.729373   \n",
       "std      0.525860   22.905161    0.469794    1.161075    0.616226    1.022606   \n",
       "min      0.000000   71.000000    0.000000    0.000000    0.000000    0.000000   \n",
       "25%      0.000000  133.500000    0.000000    0.000000    1.000000    0.000000   \n",
       "50%      1.000000  153.000000    0.000000    0.800000    1.000000    0.000000   \n",
       "75%      1.000000  166.000000    1.000000    1.600000    2.000000    1.000000   \n",
       "max      2.000000  202.000000    1.000000    6.200000    2.000000    4.000000   \n",
       "\n",
       "             thal      target  \n",
       "count  303.000000  303.000000  \n",
       "mean     2.313531    0.544554  \n",
       "std      0.612277    0.498835  \n",
       "min      0.000000    0.000000  \n",
       "25%      2.000000    0.000000  \n",
       "50%      2.000000    1.000000  \n",
       "75%      3.000000    1.000000  \n",
       "max      3.000000    1.000000  "
      ]
     },
     "execution_count": 30,
     "metadata": {},
     "output_type": "execute_result"
    }
   ],
   "source": [
    "df.describe()"
   ]
  },
  {
   "cell_type": "code",
   "execution_count": 61,
   "metadata": {},
   "outputs": [
    {
     "data": {
      "image/png": "[encoded data removed]",
      "text/plain": [
       "<Figure size 432x288 with 16 Axes>"
      ]
     },
     "metadata": {},
     "output_type": "display_data"
    }
   ],
   "source": [
    "df.hist();"
   ]
  },
  {
   "cell_type": "markdown",
   "metadata": {},
   "source": [
    "verify the features(threstbps,chol,thalach,oldpeaks)outlier using boxplot and  using the value percentile to remove the outlier data"
   ]
  },
  {
   "cell_type": "code",
   "execution_count": 48,
   "metadata": {},
   "outputs": [
    {
     "data": {
      "text/plain": [
       "Text(0.5,0.98,'Visualization outliers in dataset')"
      ]
     },
     "execution_count": 48,
     "metadata": {},
     "output_type": "execute_result"
    },
    {
     "data": {
      "image/png": "[encoded data removed]",
      "text/plain": [
       "<Figure size 432x288 with 4 Axes>"
      ]
     },
     "metadata": {},
     "output_type": "display_data"
    }
   ],
   "source": [
    "fig, axs = plt.subplots(1, 4)\n",
    "axs[0].boxplot(df.loc[:,'trestbps'])\n",
    "axs[0].set_title('trestbps')\n",
    "\n",
    "axs[1].boxplot(df.loc[:,'chol'])\n",
    "axs[1].set_title('chol')\n",
    "\n",
    "axs[2].boxplot(df.loc[:,'thalach'])\n",
    "axs[2].set_title('thalach')\n",
    "\n",
    "axs[3].boxplot(df.loc[:,'oldpeak'])\n",
    "axs[3].set_title('oldpeak')\n",
    "\n",
    "fig.suptitle('Visualization outliers in dataset', fontsize=14)"
   ]
  },
  {
   "cell_type": "code",
   "execution_count": 64,
   "metadata": {},
   "outputs": [],
   "source": [
    "fea = df.loc[:,['trestbps','chol','thalach','oldpeak']]\n",
    "Q1_Q3 = fea.quantile([0.25,0.75]).as_matrix()\n",
    "Q1 = Q1_Q3[0]\n",
    "Q3 = Q1_Q3[1]\n",
    "\n",
    "IQR = Q3 - Q1\n",
    "outlier_Q1 = Q1 - 1.5*IQR\n",
    "outlier_Q3 = Q3 + 1.5*IQR\n",
    "\n",
    "#outlier for 4 index \n",
    "outlier = (fea['trestbps']<outlier_Q1[0])|(fea['trestbps']>outlier_Q3[0])|(fea['chol']>outlier_Q3[1])|(fea['chol']<outlier_Q1[1])|(fea['thalach']<outlier_Q1[2])|(fea['thalach']>outlier_Q3[2])|(fea['oldpeak']<outlier_Q1[3])|(fea['oldpeak']>outlier_Q3[3])\n",
    "outlier_index = df[outlier].index"
   ]
  },
  {
   "cell_type": "code",
   "execution_count": 65,
   "metadata": {},
   "outputs": [],
   "source": [
    "df_drop = df\n",
    "df_drop = df_drop.drop(outlier_index,axis=0)"
   ]
  },
  {
   "cell_type": "markdown",
   "metadata": {},
   "source": [
    "## Dataset spliting\n",
    "The most machine learning classification algorithms are sensitive to unbalance in the predictor classes. It's better verifiy if it has the problem of imbalance dataset or not. "
   ]
  },
  {
   "cell_type": "code",
   "execution_count": 66,
   "metadata": {},
   "outputs": [],
   "source": [
    "X, y = df_drop.drop('target',1),df_drop[['target']]"
   ]
  },
  {
   "cell_type": "code",
   "execution_count": 67,
   "metadata": {},
   "outputs": [
    {
     "name": "stdout",
     "output_type": "stream",
     "text": [
      "Counts of label '1' in original dataset : 165\n",
      "Counts of label '0' in original dataset: 138\n"
     ]
    }
   ],
   "source": [
    "count_target = df.groupby(['target']).size()\n",
    "print(\"Counts of label '1' in original dataset : %d\" % count_target[1])\n",
    "print(\"Counts of label '0' in original dataset: %d\" % count_target[0])"
   ]
  },
  {
   "cell_type": "markdown",
   "metadata": {},
   "source": [
    "In the target classes, we can oberseve the raton 1 and 0 is 165 and 138. there is no probleme of the balance so we don't need to balanced dataset. \n",
    "\n",
    "we split the dataset into two sets, one for training and the other for testing;\n",
    "we have split the dataset in a 70–30 ratio."
   ]
  },
  {
   "cell_type": "code",
   "execution_count": 170,
   "metadata": {},
   "outputs": [
    {
     "name": "stdout",
     "output_type": "stream",
     "text": [
      "Number transactions X_train dataset:  (227, 13)\n",
      "Number transactions y_train dataset:  (227, 1)\n",
      "Number transactions X_test dataset:  (57, 13)\n",
      "Number transactions y_test dataset:  (57, 1)\n"
     ]
    }
   ],
   "source": [
    "from sklearn.model_selection import train_test_split\n",
    "X_train, X_test, y_train, y_test = train_test_split(X,y,test_size=0.2, random_state=1)\n",
    "print(\"Number transactions X_train dataset: \", X_train.shape)\n",
    "print(\"Number transactions y_train dataset: \", y_train.shape)\n",
    "print(\"Number transactions X_test dataset: \", X_test.shape)\n",
    "print(\"Number transactions y_test dataset: \", y_test.shape)"
   ]
  },
  {
   "cell_type": "markdown",
   "metadata": {},
   "source": [
    "## Rescaling dataset "
   ]
  },
  {
   "cell_type": "code",
   "execution_count": 171,
   "metadata": {},
   "outputs": [],
   "source": [
    "#from sklearn.preprocessing import StandardScaler\n",
    "#from sklearn.preprocessing import MinMaxScaler\n",
    "#from sklearn.preprocessing import label_binarize\n",
    "\n",
    "#ss = StandardScaler()\n",
    "#mytrain = X_train;\n",
    "#X_train = pd.DataFrame(ss.fit_transform(mytrain))\n",
    "#X_train.columns = mytrain.columns#先拟合数据在进行标准化\n",
    "#X_train = mytrain"
   ]
  },
  {
   "cell_type": "markdown",
   "metadata": {},
   "source": [
    "## Basic EDA"
   ]
  },
  {
   "cell_type": "markdown",
   "metadata": {},
   "source": [
    "## Feature Selecting"
   ]
  },
  {
   "cell_type": "markdown",
   "metadata": {},
   "source": [
    "### by coefficient correlations\n",
    "The correlation matrix permet us to observe the relationship among the features.\n",
    "We generate the first correlation heat-map for the balanced data. "
   ]
  },
  {
   "cell_type": "code",
   "execution_count": 172,
   "metadata": {},
   "outputs": [
    {
     "data": {
      "text/html": [
       "<style  type=\"text/css\" >\n",
       "    #T_54a70426_7740_11e9_8d6f_f45c89cda5bfrow0_col0 {\n",
       "            background-color:  #b40426;\n",
       "        }    #T_54a70426_7740_11e9_8d6f_f45c89cda5bfrow0_col1 {\n",
       "            background-color:  #506bda;\n",
       "        }    #T_54a70426_7740_11e9_8d6f_f45c89cda5bfrow0_col2 {\n",
       "            background-color:  #85a8fc;\n",
       "        }    #T_54a70426_7740_11e9_8d6f_f45c89cda5bfrow0_col3 {\n",
       "            background-color:  #b1cbfc;\n",
       "        }    #T_54a70426_7740_11e9_8d6f_f45c89cda5bfrow0_col4 {\n",
       "            background-color:  #9ebeff;\n",
       "        }    #T_54a70426_7740_11e9_8d6f_f45c89cda5bfrow0_col5 {\n",
       "            background-color:  #6e90f2;\n",
       "        }    #T_54a70426_7740_11e9_8d6f_f45c89cda5bfrow0_col6 {\n",
       "            background-color:  #5b7ae5;\n",
       "        }    #T_54a70426_7740_11e9_8d6f_f45c89cda5bfrow0_col7 {\n",
       "            background-color:  #3b4cc0;\n",
       "        }    #T_54a70426_7740_11e9_8d6f_f45c89cda5bfrow0_col8 {\n",
       "            background-color:  #a6c4fe;\n",
       "        }    #T_54a70426_7740_11e9_8d6f_f45c89cda5bfrow0_col9 {\n",
       "            background-color:  #d7dce3;\n",
       "        }    #T_54a70426_7740_11e9_8d6f_f45c89cda5bfrow0_col10 {\n",
       "            background-color:  #9abbff;\n",
       "        }    #T_54a70426_7740_11e9_8d6f_f45c89cda5bfrow0_col11 {\n",
       "            background-color:  #c5d6f2;\n",
       "        }    #T_54a70426_7740_11e9_8d6f_f45c89cda5bfrow0_col12 {\n",
       "            background-color:  #799cf8;\n",
       "        }    #T_54a70426_7740_11e9_8d6f_f45c89cda5bfrow1_col0 {\n",
       "            background-color:  #82a6fb;\n",
       "        }    #T_54a70426_7740_11e9_8d6f_f45c89cda5bfrow1_col1 {\n",
       "            background-color:  #b40426;\n",
       "        }    #T_54a70426_7740_11e9_8d6f_f45c89cda5bfrow1_col2 {\n",
       "            background-color:  #7ea1fa;\n",
       "        }    #T_54a70426_7740_11e9_8d6f_f45c89cda5bfrow1_col3 {\n",
       "            background-color:  #5673e0;\n",
       "        }    #T_54a70426_7740_11e9_8d6f_f45c89cda5bfrow1_col4 {\n",
       "            background-color:  #4257c9;\n",
       "        }    #T_54a70426_7740_11e9_8d6f_f45c89cda5bfrow1_col5 {\n",
       "            background-color:  #5d7ce6;\n",
       "        }    #T_54a70426_7740_11e9_8d6f_f45c89cda5bfrow1_col6 {\n",
       "            background-color:  #4c66d6;\n",
       "        }    #T_54a70426_7740_11e9_8d6f_f45c89cda5bfrow1_col7 {\n",
       "            background-color:  #8db0fe;\n",
       "        }    #T_54a70426_7740_11e9_8d6f_f45c89cda5bfrow1_col8 {\n",
       "            background-color:  #c4d5f3;\n",
       "        }    #T_54a70426_7740_11e9_8d6f_f45c89cda5bfrow1_col9 {\n",
       "            background-color:  #ccd9ed;\n",
       "        }    #T_54a70426_7740_11e9_8d6f_f45c89cda5bfrow1_col10 {\n",
       "            background-color:  #a9c6fd;\n",
       "        }    #T_54a70426_7740_11e9_8d6f_f45c89cda5bfrow1_col11 {\n",
       "            background-color:  #9bbcff;\n",
       "        }    #T_54a70426_7740_11e9_8d6f_f45c89cda5bfrow1_col12 {\n",
       "            background-color:  #bbd1f8;\n",
       "        }    #T_54a70426_7740_11e9_8d6f_f45c89cda5bfrow2_col0 {\n",
       "            background-color:  #82a6fb;\n",
       "        }    #T_54a70426_7740_11e9_8d6f_f45c89cda5bfrow2_col1 {\n",
       "            background-color:  #465ecf;\n",
       "        }    #T_54a70426_7740_11e9_8d6f_f45c89cda5bfrow2_col2 {\n",
       "            background-color:  #b40426;\n",
       "        }    #T_54a70426_7740_11e9_8d6f_f45c89cda5bfrow2_col3 {\n",
       "            background-color:  #6e90f2;\n",
       "        }    #T_54a70426_7740_11e9_8d6f_f45c89cda5bfrow2_col4 {\n",
       "            background-color:  #516ddb;\n",
       "        }    #T_54a70426_7740_11e9_8d6f_f45c89cda5bfrow2_col5 {\n",
       "            background-color:  #6788ee;\n",
       "        }    #T_54a70426_7740_11e9_8d6f_f45c89cda5bfrow2_col6 {\n",
       "            background-color:  #85a8fc;\n",
       "        }    #T_54a70426_7740_11e9_8d6f_f45c89cda5bfrow2_col7 {\n",
       "            background-color:  #d9dce1;\n",
       "        }    #T_54a70426_7740_11e9_8d6f_f45c89cda5bfrow2_col8 {\n",
       "            background-color:  #3b4cc0;\n",
       "        }    #T_54a70426_7740_11e9_8d6f_f45c89cda5bfrow2_col9 {\n",
       "            background-color:  #96b7ff;\n",
       "        }    #T_54a70426_7740_11e9_8d6f_f45c89cda5bfrow2_col10 {\n",
       "            background-color:  #c9d7f0;\n",
       "        }    #T_54a70426_7740_11e9_8d6f_f45c89cda5bfrow2_col11 {\n",
       "            background-color:  #4c66d6;\n",
       "        }    #T_54a70426_7740_11e9_8d6f_f45c89cda5bfrow2_col12 {\n",
       "            background-color:  #3b4cc0;\n",
       "        }    #T_54a70426_7740_11e9_8d6f_f45c89cda5bfrow3_col0 {\n",
       "            background-color:  #d8dce2;\n",
       "        }    #T_54a70426_7740_11e9_8d6f_f45c89cda5bfrow3_col1 {\n",
       "            background-color:  #6485ec;\n",
       "        }    #T_54a70426_7740_11e9_8d6f_f45c89cda5bfrow3_col2 {\n",
       "            background-color:  #abc8fd;\n",
       "        }    #T_54a70426_7740_11e9_8d6f_f45c89cda5bfrow3_col3 {\n",
       "            background-color:  #b40426;\n",
       "        }    #T_54a70426_7740_11e9_8d6f_f45c89cda5bfrow3_col4 {\n",
       "            background-color:  #9bbcff;\n",
       "        }    #T_54a70426_7740_11e9_8d6f_f45c89cda5bfrow3_col5 {\n",
       "            background-color:  #6180e9;\n",
       "        }    #T_54a70426_7740_11e9_8d6f_f45c89cda5bfrow3_col6 {\n",
       "            background-color:  #506bda;\n",
       "        }    #T_54a70426_7740_11e9_8d6f_f45c89cda5bfrow3_col7 {\n",
       "            background-color:  #90b2fe;\n",
       "        }    #T_54a70426_7740_11e9_8d6f_f45c89cda5bfrow3_col8 {\n",
       "            background-color:  #9ebeff;\n",
       "        }    #T_54a70426_7740_11e9_8d6f_f45c89cda5bfrow3_col9 {\n",
       "            background-color:  #d6dce4;\n",
       "        }    #T_54a70426_7740_11e9_8d6f_f45c89cda5bfrow3_col10 {\n",
       "            background-color:  #a2c1ff;\n",
       "        }    #T_54a70426_7740_11e9_8d6f_f45c89cda5bfrow3_col11 {\n",
       "            background-color:  #86a9fc;\n",
       "        }    #T_54a70426_7740_11e9_8d6f_f45c89cda5bfrow3_col12 {\n",
       "            background-color:  #6180e9;\n",
       "        }    #T_54a70426_7740_11e9_8d6f_f45c89cda5bfrow4_col0 {\n",
       "            background-color:  #bfd3f6;\n",
       "        }    #T_54a70426_7740_11e9_8d6f_f45c89cda5bfrow4_col1 {\n",
       "            background-color:  #3b4cc0;\n",
       "        }    #T_54a70426_7740_11e9_8d6f_f45c89cda5bfrow4_col2 {\n",
       "            background-color:  #80a3fa;\n",
       "        }    #T_54a70426_7740_11e9_8d6f_f45c89cda5bfrow4_col3 {\n",
       "            background-color:  #88abfd;\n",
       "        }    #T_54a70426_7740_11e9_8d6f_f45c89cda5bfrow4_col4 {\n",
       "            background-color:  #b40426;\n",
       "        }    #T_54a70426_7740_11e9_8d6f_f45c89cda5bfrow4_col5 {\n",
       "            background-color:  #506bda;\n",
       "        }    #T_54a70426_7740_11e9_8d6f_f45c89cda5bfrow4_col6 {\n",
       "            background-color:  #3b4cc0;\n",
       "        }    #T_54a70426_7740_11e9_8d6f_f45c89cda5bfrow4_col7 {\n",
       "            background-color:  #9ebeff;\n",
       "        }    #T_54a70426_7740_11e9_8d6f_f45c89cda5bfrow4_col8 {\n",
       "            background-color:  #9fbfff;\n",
       "        }    #T_54a70426_7740_11e9_8d6f_f45c89cda5bfrow4_col9 {\n",
       "            background-color:  #a9c6fd;\n",
       "        }    #T_54a70426_7740_11e9_8d6f_f45c89cda5bfrow4_col10 {\n",
       "            background-color:  #bcd2f7;\n",
       "        }    #T_54a70426_7740_11e9_8d6f_f45c89cda5bfrow4_col11 {\n",
       "            background-color:  #84a7fc;\n",
       "        }    #T_54a70426_7740_11e9_8d6f_f45c89cda5bfrow4_col12 {\n",
       "            background-color:  #6b8df0;\n",
       "        }    #T_54a70426_7740_11e9_8d6f_f45c89cda5bfrow5_col0 {\n",
       "            background-color:  #afcafc;\n",
       "        }    #T_54a70426_7740_11e9_8d6f_f45c89cda5bfrow5_col1 {\n",
       "            background-color:  #7396f5;\n",
       "        }    #T_54a70426_7740_11e9_8d6f_f45c89cda5bfrow5_col2 {\n",
       "            background-color:  #adc9fd;\n",
       "        }    #T_54a70426_7740_11e9_8d6f_f45c89cda5bfrow5_col3 {\n",
       "            background-color:  #688aef;\n",
       "        }    #T_54a70426_7740_11e9_8d6f_f45c89cda5bfrow5_col4 {\n",
       "            background-color:  #6e90f2;\n",
       "        }    #T_54a70426_7740_11e9_8d6f_f45c89cda5bfrow5_col5 {\n",
       "            background-color:  #b40426;\n",
       "        }    #T_54a70426_7740_11e9_8d6f_f45c89cda5bfrow5_col6 {\n",
       "            background-color:  #5f7fe8;\n",
       "        }    #T_54a70426_7740_11e9_8d6f_f45c89cda5bfrow5_col7 {\n",
       "            background-color:  #8fb1fe;\n",
       "        }    #T_54a70426_7740_11e9_8d6f_f45c89cda5bfrow5_col8 {\n",
       "            background-color:  #9ebeff;\n",
       "        }    #T_54a70426_7740_11e9_8d6f_f45c89cda5bfrow5_col9 {\n",
       "            background-color:  #b3cdfb;\n",
       "        }    #T_54a70426_7740_11e9_8d6f_f45c89cda5bfrow5_col10 {\n",
       "            background-color:  #9fbfff;\n",
       "        }    #T_54a70426_7740_11e9_8d6f_f45c89cda5bfrow5_col11 {\n",
       "            background-color:  #9bbcff;\n",
       "        }    #T_54a70426_7740_11e9_8d6f_f45c89cda5bfrow5_col12 {\n",
       "            background-color:  #5e7de7;\n",
       "        }    #T_54a70426_7740_11e9_8d6f_f45c89cda5bfrow6_col0 {\n",
       "            background-color:  #85a8fc;\n",
       "        }    #T_54a70426_7740_11e9_8d6f_f45c89cda5bfrow6_col1 {\n",
       "            background-color:  #455cce;\n",
       "        }    #T_54a70426_7740_11e9_8d6f_f45c89cda5bfrow6_col2 {\n",
       "            background-color:  #aec9fc;\n",
       "        }    #T_54a70426_7740_11e9_8d6f_f45c89cda5bfrow6_col3 {\n",
       "            background-color:  #3b4cc0;\n",
       "        }    #T_54a70426_7740_11e9_8d6f_f45c89cda5bfrow6_col4 {\n",
       "            background-color:  #3b4cc0;\n",
       "        }    #T_54a70426_7740_11e9_8d6f_f45c89cda5bfrow6_col5 {\n",
       "            background-color:  #4257c9;\n",
       "        }    #T_54a70426_7740_11e9_8d6f_f45c89cda5bfrow6_col6 {\n",
       "            background-color:  #b40426;\n",
       "        }    #T_54a70426_7740_11e9_8d6f_f45c89cda5bfrow6_col7 {\n",
       "            background-color:  #a5c3fe;\n",
       "        }    #T_54a70426_7740_11e9_8d6f_f45c89cda5bfrow6_col8 {\n",
       "            background-color:  #7b9ff9;\n",
       "        }    #T_54a70426_7740_11e9_8d6f_f45c89cda5bfrow6_col9 {\n",
       "            background-color:  #98b9ff;\n",
       "        }    #T_54a70426_7740_11e9_8d6f_f45c89cda5bfrow6_col10 {\n",
       "            background-color:  #c7d7f0;\n",
       "        }    #T_54a70426_7740_11e9_8d6f_f45c89cda5bfrow6_col11 {\n",
       "            background-color:  #5a78e4;\n",
       "        }    #T_54a70426_7740_11e9_8d6f_f45c89cda5bfrow6_col12 {\n",
       "            background-color:  #7093f3;\n",
       "        }    #T_54a70426_7740_11e9_8d6f_f45c89cda5bfrow7_col0 {\n",
       "            background-color:  #3b4cc0;\n",
       "        }    #T_54a70426_7740_11e9_8d6f_f45c89cda5bfrow7_col1 {\n",
       "            background-color:  #5b7ae5;\n",
       "        }    #T_54a70426_7740_11e9_8d6f_f45c89cda5bfrow7_col2 {\n",
       "            background-color:  #dbdcde;\n",
       "        }    #T_54a70426_7740_11e9_8d6f_f45c89cda5bfrow7_col3 {\n",
       "            background-color:  #516ddb;\n",
       "        }    #T_54a70426_7740_11e9_8d6f_f45c89cda5bfrow7_col4 {\n",
       "            background-color:  #7699f6;\n",
       "        }    #T_54a70426_7740_11e9_8d6f_f45c89cda5bfrow7_col5 {\n",
       "            background-color:  #465ecf;\n",
       "        }    #T_54a70426_7740_11e9_8d6f_f45c89cda5bfrow7_col6 {\n",
       "            background-color:  #7ea1fa;\n",
       "        }    #T_54a70426_7740_11e9_8d6f_f45c89cda5bfrow7_col7 {\n",
       "            background-color:  #b40426;\n",
       "        }    #T_54a70426_7740_11e9_8d6f_f45c89cda5bfrow7_col8 {\n",
       "            background-color:  #3e51c5;\n",
       "        }    #T_54a70426_7740_11e9_8d6f_f45c89cda5bfrow7_col9 {\n",
       "            background-color:  #6282ea;\n",
       "        }    #T_54a70426_7740_11e9_8d6f_f45c89cda5bfrow7_col10 {\n",
       "            background-color:  #eed0c0;\n",
       "        }    #T_54a70426_7740_11e9_8d6f_f45c89cda5bfrow7_col11 {\n",
       "            background-color:  #3b4cc0;\n",
       "        }    #T_54a70426_7740_11e9_8d6f_f45c89cda5bfrow7_col12 {\n",
       "            background-color:  #5875e1;\n",
       "        }    #T_54a70426_7740_11e9_8d6f_f45c89cda5bfrow8_col0 {\n",
       "            background-color:  #a3c2fe;\n",
       "        }    #T_54a70426_7740_11e9_8d6f_f45c89cda5bfrow8_col1 {\n",
       "            background-color:  #9bbcff;\n",
       "        }    #T_54a70426_7740_11e9_8d6f_f45c89cda5bfrow8_col2 {\n",
       "            background-color:  #3b4cc0;\n",
       "        }    #T_54a70426_7740_11e9_8d6f_f45c89cda5bfrow8_col3 {\n",
       "            background-color:  #5e7de7;\n",
       "        }    #T_54a70426_7740_11e9_8d6f_f45c89cda5bfrow8_col4 {\n",
       "            background-color:  #7396f5;\n",
       "        }    #T_54a70426_7740_11e9_8d6f_f45c89cda5bfrow8_col5 {\n",
       "            background-color:  #5470de;\n",
       "        }    #T_54a70426_7740_11e9_8d6f_f45c89cda5bfrow8_col6 {\n",
       "            background-color:  #4c66d6;\n",
       "        }    #T_54a70426_7740_11e9_8d6f_f45c89cda5bfrow8_col7 {\n",
       "            background-color:  #3b4cc0;\n",
       "        }    #T_54a70426_7740_11e9_8d6f_f45c89cda5bfrow8_col8 {\n",
       "            background-color:  #b40426;\n",
       "        }    #T_54a70426_7740_11e9_8d6f_f45c89cda5bfrow8_col9 {\n",
       "            background-color:  #e6d7cf;\n",
       "        }    #T_54a70426_7740_11e9_8d6f_f45c89cda5bfrow8_col10 {\n",
       "            background-color:  #7295f4;\n",
       "        }    #T_54a70426_7740_11e9_8d6f_f45c89cda5bfrow8_col11 {\n",
       "            background-color:  #92b4fe;\n",
       "        }    #T_54a70426_7740_11e9_8d6f_f45c89cda5bfrow8_col12 {\n",
       "            background-color:  #a1c0ff;\n",
       "        }    #T_54a70426_7740_11e9_8d6f_f45c89cda5bfrow9_col0 {\n",
       "            background-color:  #c6d6f1;\n",
       "        }    #T_54a70426_7740_11e9_8d6f_f45c89cda5bfrow9_col1 {\n",
       "            background-color:  #90b2fe;\n",
       "        }    #T_54a70426_7740_11e9_8d6f_f45c89cda5bfrow9_col2 {\n",
       "            background-color:  #7ea1fa;\n",
       "        }    #T_54a70426_7740_11e9_8d6f_f45c89cda5bfrow9_col3 {\n",
       "            background-color:  #94b6ff;\n",
       "        }    #T_54a70426_7740_11e9_8d6f_f45c89cda5bfrow9_col4 {\n",
       "            background-color:  #6485ec;\n",
       "        }    #T_54a70426_7740_11e9_8d6f_f45c89cda5bfrow9_col5 {\n",
       "            background-color:  #5470de;\n",
       "        }    #T_54a70426_7740_11e9_8d6f_f45c89cda5bfrow9_col6 {\n",
       "            background-color:  #506bda;\n",
       "        }    #T_54a70426_7740_11e9_8d6f_f45c89cda5bfrow9_col7 {\n",
       "            background-color:  #4358cb;\n",
       "        }    #T_54a70426_7740_11e9_8d6f_f45c89cda5bfrow9_col8 {\n",
       "            background-color:  #dadce0;\n",
       "        }    #T_54a70426_7740_11e9_8d6f_f45c89cda5bfrow9_col9 {\n",
       "            background-color:  #b40426;\n",
       "        }    #T_54a70426_7740_11e9_8d6f_f45c89cda5bfrow9_col10 {\n",
       "            background-color:  #3b4cc0;\n",
       "        }    #T_54a70426_7740_11e9_8d6f_f45c89cda5bfrow9_col11 {\n",
       "            background-color:  #9dbdff;\n",
       "        }    #T_54a70426_7740_11e9_8d6f_f45c89cda5bfrow9_col12 {\n",
       "            background-color:  #9ebeff;\n",
       "        }    #T_54a70426_7740_11e9_8d6f_f45c89cda5bfrow10_col0 {\n",
       "            background-color:  #7ea1fa;\n",
       "        }    #T_54a70426_7740_11e9_8d6f_f45c89cda5bfrow10_col1 {\n",
       "            background-color:  #5d7ce6;\n",
       "        }    #T_54a70426_7740_11e9_8d6f_f45c89cda5bfrow10_col2 {\n",
       "            background-color:  #b7cff9;\n",
       "        }    #T_54a70426_7740_11e9_8d6f_f45c89cda5bfrow10_col3 {\n",
       "            background-color:  #465ecf;\n",
       "        }    #T_54a70426_7740_11e9_8d6f_f45c89cda5bfrow10_col4 {\n",
       "            background-color:  #7ea1fa;\n",
       "        }    #T_54a70426_7740_11e9_8d6f_f45c89cda5bfrow10_col5 {\n",
       "            background-color:  #3b4cc0;\n",
       "        }    #T_54a70426_7740_11e9_8d6f_f45c89cda5bfrow10_col6 {\n",
       "            background-color:  #8fb1fe;\n",
       "        }    #T_54a70426_7740_11e9_8d6f_f45c89cda5bfrow10_col7 {\n",
       "            background-color:  #e4d9d2;\n",
       "        }    #T_54a70426_7740_11e9_8d6f_f45c89cda5bfrow10_col8 {\n",
       "            background-color:  #5875e1;\n",
       "        }    #T_54a70426_7740_11e9_8d6f_f45c89cda5bfrow10_col9 {\n",
       "            background-color:  #3b4cc0;\n",
       "        }    #T_54a70426_7740_11e9_8d6f_f45c89cda5bfrow10_col10 {\n",
       "            background-color:  #b40426;\n",
       "        }    #T_54a70426_7740_11e9_8d6f_f45c89cda5bfrow10_col11 {\n",
       "            background-color:  #6282ea;\n",
       "        }    #T_54a70426_7740_11e9_8d6f_f45c89cda5bfrow10_col12 {\n",
       "            background-color:  #5b7ae5;\n",
       "        }    #T_54a70426_7740_11e9_8d6f_f45c89cda5bfrow11_col0 {\n",
       "            background-color:  #dcdddd;\n",
       "        }    #T_54a70426_7740_11e9_8d6f_f45c89cda5bfrow11_col1 {\n",
       "            background-color:  #94b6ff;\n",
       "        }    #T_54a70426_7740_11e9_8d6f_f45c89cda5bfrow11_col2 {\n",
       "            background-color:  #7da0f9;\n",
       "        }    #T_54a70426_7740_11e9_8d6f_f45c89cda5bfrow11_col3 {\n",
       "            background-color:  #7295f4;\n",
       "        }    #T_54a70426_7740_11e9_8d6f_f45c89cda5bfrow11_col4 {\n",
       "            background-color:  #84a7fc;\n",
       "        }    #T_54a70426_7740_11e9_8d6f_f45c89cda5bfrow11_col5 {\n",
       "            background-color:  #80a3fa;\n",
       "        }    #T_54a70426_7740_11e9_8d6f_f45c89cda5bfrow11_col6 {\n",
       "            background-color:  #5b7ae5;\n",
       "        }    #T_54a70426_7740_11e9_8d6f_f45c89cda5bfrow11_col7 {\n",
       "            background-color:  #6687ed;\n",
       "        }    #T_54a70426_7740_11e9_8d6f_f45c89cda5bfrow11_col8 {\n",
       "            background-color:  #b9d0f9;\n",
       "        }    #T_54a70426_7740_11e9_8d6f_f45c89cda5bfrow11_col9 {\n",
       "            background-color:  #cfdaea;\n",
       "        }    #T_54a70426_7740_11e9_8d6f_f45c89cda5bfrow11_col10 {\n",
       "            background-color:  #a7c5fe;\n",
       "        }    #T_54a70426_7740_11e9_8d6f_f45c89cda5bfrow11_col11 {\n",
       "            background-color:  #b40426;\n",
       "        }    #T_54a70426_7740_11e9_8d6f_f45c89cda5bfrow11_col12 {\n",
       "            background-color:  #a1c0ff;\n",
       "        }    #T_54a70426_7740_11e9_8d6f_f45c89cda5bfrow12_col0 {\n",
       "            background-color:  #a1c0ff;\n",
       "        }    #T_54a70426_7740_11e9_8d6f_f45c89cda5bfrow12_col1 {\n",
       "            background-color:  #b5cdfa;\n",
       "        }    #T_54a70426_7740_11e9_8d6f_f45c89cda5bfrow12_col2 {\n",
       "            background-color:  #6a8bef;\n",
       "        }    #T_54a70426_7740_11e9_8d6f_f45c89cda5bfrow12_col3 {\n",
       "            background-color:  #4a63d3;\n",
       "        }    #T_54a70426_7740_11e9_8d6f_f45c89cda5bfrow12_col4 {\n",
       "            background-color:  #6a8bef;\n",
       "        }    #T_54a70426_7740_11e9_8d6f_f45c89cda5bfrow12_col5 {\n",
       "            background-color:  #3f53c6;\n",
       "        }    #T_54a70426_7740_11e9_8d6f_f45c89cda5bfrow12_col6 {\n",
       "            background-color:  #6f92f3;\n",
       "        }    #T_54a70426_7740_11e9_8d6f_f45c89cda5bfrow12_col7 {\n",
       "            background-color:  #82a6fb;\n",
       "        }    #T_54a70426_7740_11e9_8d6f_f45c89cda5bfrow12_col8 {\n",
       "            background-color:  #c4d5f3;\n",
       "        }    #T_54a70426_7740_11e9_8d6f_f45c89cda5bfrow12_col9 {\n",
       "            background-color:  #d1dae9;\n",
       "        }    #T_54a70426_7740_11e9_8d6f_f45c89cda5bfrow12_col10 {\n",
       "            background-color:  #a1c0ff;\n",
       "        }    #T_54a70426_7740_11e9_8d6f_f45c89cda5bfrow12_col11 {\n",
       "            background-color:  #a1c0ff;\n",
       "        }    #T_54a70426_7740_11e9_8d6f_f45c89cda5bfrow12_col12 {\n",
       "            background-color:  #b40426;\n",
       "        }</style>  \n",
       "<table id=\"T_54a70426_7740_11e9_8d6f_f45c89cda5bf\" > \n",
       "<thead>    <tr> \n",
       "        <th class=\"blank level0\" ></th> \n",
       "        <th class=\"col_heading level0 col0\" >age</th> \n",
       "        <th class=\"col_heading level0 col1\" >sex</th> \n",
       "        <th class=\"col_heading level0 col2\" >cp</th> \n",
       "        <th class=\"col_heading level0 col3\" >trestbps</th> \n",
       "        <th class=\"col_heading level0 col4\" >chol</th> \n",
       "        <th class=\"col_heading level0 col5\" >fbs</th> \n",
       "        <th class=\"col_heading level0 col6\" >restecg</th> \n",
       "        <th class=\"col_heading level0 col7\" >thalach</th> \n",
       "        <th class=\"col_heading level0 col8\" >exang</th> \n",
       "        <th class=\"col_heading level0 col9\" >oldpeak</th> \n",
       "        <th class=\"col_heading level0 col10\" >slope</th> \n",
       "        <th class=\"col_heading level0 col11\" >ca</th> \n",
       "        <th class=\"col_heading level0 col12\" >thal</th> \n",
       "    </tr></thead> \n",
       "<tbody>    <tr> \n",
       "        <th id=\"T_54a70426_7740_11e9_8d6f_f45c89cda5bflevel0_row0\" class=\"row_heading level0 row0\" >age</th> \n",
       "        <td id=\"T_54a70426_7740_11e9_8d6f_f45c89cda5bfrow0_col0\" class=\"data row0 col0\" >1</td> \n",
       "        <td id=\"T_54a70426_7740_11e9_8d6f_f45c89cda5bfrow0_col1\" class=\"data row0 col1\" >-0.079</td> \n",
       "        <td id=\"T_54a70426_7740_11e9_8d6f_f45c89cda5bfrow0_col2\" class=\"data row0 col2\" >-0.08</td> \n",
       "        <td id=\"T_54a70426_7740_11e9_8d6f_f45c89cda5bfrow0_col3\" class=\"data row0 col3\" >0.28</td> \n",
       "        <td id=\"T_54a70426_7740_11e9_8d6f_f45c89cda5bfrow0_col4\" class=\"data row0 col4\" >0.16</td> \n",
       "        <td id=\"T_54a70426_7740_11e9_8d6f_f45c89cda5bfrow0_col5\" class=\"data row0 col5\" >0.099</td> \n",
       "        <td id=\"T_54a70426_7740_11e9_8d6f_f45c89cda5bfrow0_col6\" class=\"data row0 col6\" >-0.065</td> \n",
       "        <td id=\"T_54a70426_7740_11e9_8d6f_f45c89cda5bfrow0_col7\" class=\"data row0 col7\" >-0.38</td> \n",
       "        <td id=\"T_54a70426_7740_11e9_8d6f_f45c89cda5bfrow0_col8\" class=\"data row0 col8\" >0.05</td> \n",
       "        <td id=\"T_54a70426_7740_11e9_8d6f_f45c89cda5bfrow0_col9\" class=\"data row0 col9\" >0.2</td> \n",
       "        <td id=\"T_54a70426_7740_11e9_8d6f_f45c89cda5bfrow0_col10\" class=\"data row0 col10\" >-0.097</td> \n",
       "        <td id=\"T_54a70426_7740_11e9_8d6f_f45c89cda5bfrow0_col11\" class=\"data row0 col11\" >0.31</td> \n",
       "        <td id=\"T_54a70426_7740_11e9_8d6f_f45c89cda5bfrow0_col12\" class=\"data row0 col12\" >0.039</td> \n",
       "    </tr>    <tr> \n",
       "        <th id=\"T_54a70426_7740_11e9_8d6f_f45c89cda5bflevel0_row1\" class=\"row_heading level0 row1\" >sex</th> \n",
       "        <td id=\"T_54a70426_7740_11e9_8d6f_f45c89cda5bfrow1_col0\" class=\"data row1 col0\" >-0.079</td> \n",
       "        <td id=\"T_54a70426_7740_11e9_8d6f_f45c89cda5bfrow1_col1\" class=\"data row1 col1\" >1</td> \n",
       "        <td id=\"T_54a70426_7740_11e9_8d6f_f45c89cda5bfrow1_col2\" class=\"data row1 col2\" >-0.11</td> \n",
       "        <td id=\"T_54a70426_7740_11e9_8d6f_f45c89cda5bfrow1_col3\" class=\"data row1 col3\" >-0.0052</td> \n",
       "        <td id=\"T_54a70426_7740_11e9_8d6f_f45c89cda5bfrow1_col4\" class=\"data row1 col4\" >-0.16</td> \n",
       "        <td id=\"T_54a70426_7740_11e9_8d6f_f45c89cda5bfrow1_col5\" class=\"data row1 col5\" >0.047</td> \n",
       "        <td id=\"T_54a70426_7740_11e9_8d6f_f45c89cda5bfrow1_col6\" class=\"data row1 col6\" >-0.12</td> \n",
       "        <td id=\"T_54a70426_7740_11e9_8d6f_f45c89cda5bfrow1_col7\" class=\"data row1 col7\" >-0.035</td> \n",
       "        <td id=\"T_54a70426_7740_11e9_8d6f_f45c89cda5bfrow1_col8\" class=\"data row1 col8\" >0.18</td> \n",
       "        <td id=\"T_54a70426_7740_11e9_8d6f_f45c89cda5bfrow1_col9\" class=\"data row1 col9\" >0.14</td> \n",
       "        <td id=\"T_54a70426_7740_11e9_8d6f_f45c89cda5bfrow1_col10\" class=\"data row1 col10\" >-0.032</td> \n",
       "        <td id=\"T_54a70426_7740_11e9_8d6f_f45c89cda5bfrow1_col11\" class=\"data row1 col11\" >0.15</td> \n",
       "        <td id=\"T_54a70426_7740_11e9_8d6f_f45c89cda5bfrow1_col12\" class=\"data row1 col12\" >0.26</td> \n",
       "    </tr>    <tr> \n",
       "        <th id=\"T_54a70426_7740_11e9_8d6f_f45c89cda5bflevel0_row2\" class=\"row_heading level0 row2\" >cp</th> \n",
       "        <td id=\"T_54a70426_7740_11e9_8d6f_f45c89cda5bfrow2_col0\" class=\"data row2 col0\" >-0.08</td> \n",
       "        <td id=\"T_54a70426_7740_11e9_8d6f_f45c89cda5bfrow2_col1\" class=\"data row2 col1\" >-0.11</td> \n",
       "        <td id=\"T_54a70426_7740_11e9_8d6f_f45c89cda5bfrow2_col2\" class=\"data row2 col2\" >1</td> \n",
       "        <td id=\"T_54a70426_7740_11e9_8d6f_f45c89cda5bfrow2_col3\" class=\"data row2 col3\" >0.073</td> \n",
       "        <td id=\"T_54a70426_7740_11e9_8d6f_f45c89cda5bfrow2_col4\" class=\"data row2 col4\" >-0.1</td> \n",
       "        <td id=\"T_54a70426_7740_11e9_8d6f_f45c89cda5bfrow2_col5\" class=\"data row2 col5\" >0.079</td> \n",
       "        <td id=\"T_54a70426_7740_11e9_8d6f_f45c89cda5bfrow2_col6\" class=\"data row2 col6\" >0.081</td> \n",
       "        <td id=\"T_54a70426_7740_11e9_8d6f_f45c89cda5bfrow2_col7\" class=\"data row2 col7\" >0.29</td> \n",
       "        <td id=\"T_54a70426_7740_11e9_8d6f_f45c89cda5bfrow2_col8\" class=\"data row2 col8\" >-0.4</td> \n",
       "        <td id=\"T_54a70426_7740_11e9_8d6f_f45c89cda5bfrow2_col9\" class=\"data row2 col9\" >-0.11</td> \n",
       "        <td id=\"T_54a70426_7740_11e9_8d6f_f45c89cda5bfrow2_col10\" class=\"data row2 col10\" >0.12</td> \n",
       "        <td id=\"T_54a70426_7740_11e9_8d6f_f45c89cda5bfrow2_col11\" class=\"data row2 col11\" >-0.12</td> \n",
       "        <td id=\"T_54a70426_7740_11e9_8d6f_f45c89cda5bfrow2_col12\" class=\"data row2 col12\" >-0.19</td> \n",
       "    </tr>    <tr> \n",
       "        <th id=\"T_54a70426_7740_11e9_8d6f_f45c89cda5bflevel0_row3\" class=\"row_heading level0 row3\" >trestbps</th> \n",
       "        <td id=\"T_54a70426_7740_11e9_8d6f_f45c89cda5bfrow3_col0\" class=\"data row3 col0\" >0.28</td> \n",
       "        <td id=\"T_54a70426_7740_11e9_8d6f_f45c89cda5bfrow3_col1\" class=\"data row3 col1\" >-0.0052</td> \n",
       "        <td id=\"T_54a70426_7740_11e9_8d6f_f45c89cda5bfrow3_col2\" class=\"data row3 col2\" >0.073</td> \n",
       "        <td id=\"T_54a70426_7740_11e9_8d6f_f45c89cda5bfrow3_col3\" class=\"data row3 col3\" >1</td> \n",
       "        <td id=\"T_54a70426_7740_11e9_8d6f_f45c89cda5bfrow3_col4\" class=\"data row3 col4\" >0.16</td> \n",
       "        <td id=\"T_54a70426_7740_11e9_8d6f_f45c89cda5bfrow3_col5\" class=\"data row3 col5\" >0.056</td> \n",
       "        <td id=\"T_54a70426_7740_11e9_8d6f_f45c89cda5bfrow3_col6\" class=\"data row3 col6\" >-0.11</td> \n",
       "        <td id=\"T_54a70426_7740_11e9_8d6f_f45c89cda5bfrow3_col7\" class=\"data row3 col7\" >-0.023</td> \n",
       "        <td id=\"T_54a70426_7740_11e9_8d6f_f45c89cda5bfrow3_col8\" class=\"data row3 col8\" >0.02</td> \n",
       "        <td id=\"T_54a70426_7740_11e9_8d6f_f45c89cda5bfrow3_col9\" class=\"data row3 col9\" >0.19</td> \n",
       "        <td id=\"T_54a70426_7740_11e9_8d6f_f45c89cda5bfrow3_col10\" class=\"data row3 col10\" >-0.06</td> \n",
       "        <td id=\"T_54a70426_7740_11e9_8d6f_f45c89cda5bfrow3_col11\" class=\"data row3 col11\" >0.087</td> \n",
       "        <td id=\"T_54a70426_7740_11e9_8d6f_f45c89cda5bfrow3_col12\" class=\"data row3 col12\" >-0.048</td> \n",
       "    </tr>    <tr> \n",
       "        <th id=\"T_54a70426_7740_11e9_8d6f_f45c89cda5bflevel0_row4\" class=\"row_heading level0 row4\" >chol</th> \n",
       "        <td id=\"T_54a70426_7740_11e9_8d6f_f45c89cda5bfrow4_col0\" class=\"data row4 col0\" >0.16</td> \n",
       "        <td id=\"T_54a70426_7740_11e9_8d6f_f45c89cda5bfrow4_col1\" class=\"data row4 col1\" >-0.16</td> \n",
       "        <td id=\"T_54a70426_7740_11e9_8d6f_f45c89cda5bfrow4_col2\" class=\"data row4 col2\" >-0.1</td> \n",
       "        <td id=\"T_54a70426_7740_11e9_8d6f_f45c89cda5bfrow4_col3\" class=\"data row4 col3\" >0.16</td> \n",
       "        <td id=\"T_54a70426_7740_11e9_8d6f_f45c89cda5bfrow4_col4\" class=\"data row4 col4\" >1</td> \n",
       "        <td id=\"T_54a70426_7740_11e9_8d6f_f45c89cda5bfrow4_col5\" class=\"data row4 col5\" >0.0034</td> \n",
       "        <td id=\"T_54a70426_7740_11e9_8d6f_f45c89cda5bfrow4_col6\" class=\"data row4 col6\" >-0.19</td> \n",
       "        <td id=\"T_54a70426_7740_11e9_8d6f_f45c89cda5bfrow4_col7\" class=\"data row4 col7\" >0.03</td> \n",
       "        <td id=\"T_54a70426_7740_11e9_8d6f_f45c89cda5bfrow4_col8\" class=\"data row4 col8\" >0.022</td> \n",
       "        <td id=\"T_54a70426_7740_11e9_8d6f_f45c89cda5bfrow4_col9\" class=\"data row4 col9\" >-0.032</td> \n",
       "        <td id=\"T_54a70426_7740_11e9_8d6f_f45c89cda5bfrow4_col10\" class=\"data row4 col10\" >0.059</td> \n",
       "        <td id=\"T_54a70426_7740_11e9_8d6f_f45c89cda5bfrow4_col11\" class=\"data row4 col11\" >0.078</td> \n",
       "        <td id=\"T_54a70426_7740_11e9_8d6f_f45c89cda5bfrow4_col12\" class=\"data row4 col12\" >-0.011</td> \n",
       "    </tr>    <tr> \n",
       "        <th id=\"T_54a70426_7740_11e9_8d6f_f45c89cda5bflevel0_row5\" class=\"row_heading level0 row5\" >fbs</th> \n",
       "        <td id=\"T_54a70426_7740_11e9_8d6f_f45c89cda5bfrow5_col0\" class=\"data row5 col0\" >0.099</td> \n",
       "        <td id=\"T_54a70426_7740_11e9_8d6f_f45c89cda5bfrow5_col1\" class=\"data row5 col1\" >0.047</td> \n",
       "        <td id=\"T_54a70426_7740_11e9_8d6f_f45c89cda5bfrow5_col2\" class=\"data row5 col2\" >0.079</td> \n",
       "        <td id=\"T_54a70426_7740_11e9_8d6f_f45c89cda5bfrow5_col3\" class=\"data row5 col3\" >0.056</td> \n",
       "        <td id=\"T_54a70426_7740_11e9_8d6f_f45c89cda5bfrow5_col4\" class=\"data row5 col4\" >0.0034</td> \n",
       "        <td id=\"T_54a70426_7740_11e9_8d6f_f45c89cda5bfrow5_col5\" class=\"data row5 col5\" >1</td> \n",
       "        <td id=\"T_54a70426_7740_11e9_8d6f_f45c89cda5bfrow5_col6\" class=\"data row5 col6\" >-0.049</td> \n",
       "        <td id=\"T_54a70426_7740_11e9_8d6f_f45c89cda5bfrow5_col7\" class=\"data row5 col7\" >-0.028</td> \n",
       "        <td id=\"T_54a70426_7740_11e9_8d6f_f45c89cda5bfrow5_col8\" class=\"data row5 col8\" >0.016</td> \n",
       "        <td id=\"T_54a70426_7740_11e9_8d6f_f45c89cda5bfrow5_col9\" class=\"data row5 col9\" >0.017</td> \n",
       "        <td id=\"T_54a70426_7740_11e9_8d6f_f45c89cda5bfrow5_col10\" class=\"data row5 col10\" >-0.074</td> \n",
       "        <td id=\"T_54a70426_7740_11e9_8d6f_f45c89cda5bfrow5_col11\" class=\"data row5 col11\" >0.15</td> \n",
       "        <td id=\"T_54a70426_7740_11e9_8d6f_f45c89cda5bfrow5_col12\" class=\"data row5 col12\" >-0.056</td> \n",
       "    </tr>    <tr> \n",
       "        <th id=\"T_54a70426_7740_11e9_8d6f_f45c89cda5bflevel0_row6\" class=\"row_heading level0 row6\" >restecg</th> \n",
       "        <td id=\"T_54a70426_7740_11e9_8d6f_f45c89cda5bfrow6_col0\" class=\"data row6 col0\" >-0.065</td> \n",
       "        <td id=\"T_54a70426_7740_11e9_8d6f_f45c89cda5bfrow6_col1\" class=\"data row6 col1\" >-0.12</td> \n",
       "        <td id=\"T_54a70426_7740_11e9_8d6f_f45c89cda5bfrow6_col2\" class=\"data row6 col2\" >0.081</td> \n",
       "        <td id=\"T_54a70426_7740_11e9_8d6f_f45c89cda5bfrow6_col3\" class=\"data row6 col3\" >-0.11</td> \n",
       "        <td id=\"T_54a70426_7740_11e9_8d6f_f45c89cda5bfrow6_col4\" class=\"data row6 col4\" >-0.19</td> \n",
       "        <td id=\"T_54a70426_7740_11e9_8d6f_f45c89cda5bfrow6_col5\" class=\"data row6 col5\" >-0.049</td> \n",
       "        <td id=\"T_54a70426_7740_11e9_8d6f_f45c89cda5bfrow6_col6\" class=\"data row6 col6\" >1</td> \n",
       "        <td id=\"T_54a70426_7740_11e9_8d6f_f45c89cda5bfrow6_col7\" class=\"data row6 col7\" >0.06</td> \n",
       "        <td id=\"T_54a70426_7740_11e9_8d6f_f45c89cda5bfrow6_col8\" class=\"data row6 col8\" >-0.12</td> \n",
       "        <td id=\"T_54a70426_7740_11e9_8d6f_f45c89cda5bfrow6_col9\" class=\"data row6 col9\" >-0.1</td> \n",
       "        <td id=\"T_54a70426_7740_11e9_8d6f_f45c89cda5bfrow6_col10\" class=\"data row6 col10\" >0.11</td> \n",
       "        <td id=\"T_54a70426_7740_11e9_8d6f_f45c89cda5bfrow6_col11\" class=\"data row6 col11\" >-0.065</td> \n",
       "        <td id=\"T_54a70426_7740_11e9_8d6f_f45c89cda5bfrow6_col12\" class=\"data row6 col12\" >0.0075</td> \n",
       "    </tr>    <tr> \n",
       "        <th id=\"T_54a70426_7740_11e9_8d6f_f45c89cda5bflevel0_row7\" class=\"row_heading level0 row7\" >thalach</th> \n",
       "        <td id=\"T_54a70426_7740_11e9_8d6f_f45c89cda5bfrow7_col0\" class=\"data row7 col0\" >-0.38</td> \n",
       "        <td id=\"T_54a70426_7740_11e9_8d6f_f45c89cda5bfrow7_col1\" class=\"data row7 col1\" >-0.035</td> \n",
       "        <td id=\"T_54a70426_7740_11e9_8d6f_f45c89cda5bfrow7_col2\" class=\"data row7 col2\" >0.29</td> \n",
       "        <td id=\"T_54a70426_7740_11e9_8d6f_f45c89cda5bfrow7_col3\" class=\"data row7 col3\" >-0.023</td> \n",
       "        <td id=\"T_54a70426_7740_11e9_8d6f_f45c89cda5bfrow7_col4\" class=\"data row7 col4\" >0.03</td> \n",
       "        <td id=\"T_54a70426_7740_11e9_8d6f_f45c89cda5bfrow7_col5\" class=\"data row7 col5\" >-0.028</td> \n",
       "        <td id=\"T_54a70426_7740_11e9_8d6f_f45c89cda5bfrow7_col6\" class=\"data row7 col6\" >0.06</td> \n",
       "        <td id=\"T_54a70426_7740_11e9_8d6f_f45c89cda5bfrow7_col7\" class=\"data row7 col7\" >1</td> \n",
       "        <td id=\"T_54a70426_7740_11e9_8d6f_f45c89cda5bfrow7_col8\" class=\"data row7 col8\" >-0.38</td> \n",
       "        <td id=\"T_54a70426_7740_11e9_8d6f_f45c89cda5bfrow7_col9\" class=\"data row7 col9\" >-0.34</td> \n",
       "        <td id=\"T_54a70426_7740_11e9_8d6f_f45c89cda5bfrow7_col10\" class=\"data row7 col10\" >0.35</td> \n",
       "        <td id=\"T_54a70426_7740_11e9_8d6f_f45c89cda5bfrow7_col11\" class=\"data row7 col11\" >-0.19</td> \n",
       "        <td id=\"T_54a70426_7740_11e9_8d6f_f45c89cda5bfrow7_col12\" class=\"data row7 col12\" >-0.08</td> \n",
       "    </tr>    <tr> \n",
       "        <th id=\"T_54a70426_7740_11e9_8d6f_f45c89cda5bflevel0_row8\" class=\"row_heading level0 row8\" >exang</th> \n",
       "        <td id=\"T_54a70426_7740_11e9_8d6f_f45c89cda5bfrow8_col0\" class=\"data row8 col0\" >0.05</td> \n",
       "        <td id=\"T_54a70426_7740_11e9_8d6f_f45c89cda5bfrow8_col1\" class=\"data row8 col1\" >0.18</td> \n",
       "        <td id=\"T_54a70426_7740_11e9_8d6f_f45c89cda5bfrow8_col2\" class=\"data row8 col2\" >-0.4</td> \n",
       "        <td id=\"T_54a70426_7740_11e9_8d6f_f45c89cda5bfrow8_col3\" class=\"data row8 col3\" >0.02</td> \n",
       "        <td id=\"T_54a70426_7740_11e9_8d6f_f45c89cda5bfrow8_col4\" class=\"data row8 col4\" >0.022</td> \n",
       "        <td id=\"T_54a70426_7740_11e9_8d6f_f45c89cda5bfrow8_col5\" class=\"data row8 col5\" >0.016</td> \n",
       "        <td id=\"T_54a70426_7740_11e9_8d6f_f45c89cda5bfrow8_col6\" class=\"data row8 col6\" >-0.12</td> \n",
       "        <td id=\"T_54a70426_7740_11e9_8d6f_f45c89cda5bfrow8_col7\" class=\"data row8 col7\" >-0.38</td> \n",
       "        <td id=\"T_54a70426_7740_11e9_8d6f_f45c89cda5bfrow8_col8\" class=\"data row8 col8\" >1</td> \n",
       "        <td id=\"T_54a70426_7740_11e9_8d6f_f45c89cda5bfrow8_col9\" class=\"data row8 col9\" >0.29</td> \n",
       "        <td id=\"T_54a70426_7740_11e9_8d6f_f45c89cda5bfrow8_col10\" class=\"data row8 col10\" >-0.27</td> \n",
       "        <td id=\"T_54a70426_7740_11e9_8d6f_f45c89cda5bfrow8_col11\" class=\"data row8 col11\" >0.12</td> \n",
       "        <td id=\"T_54a70426_7740_11e9_8d6f_f45c89cda5bfrow8_col12\" class=\"data row8 col12\" >0.17</td> \n",
       "    </tr>    <tr> \n",
       "        <th id=\"T_54a70426_7740_11e9_8d6f_f45c89cda5bflevel0_row9\" class=\"row_heading level0 row9\" >oldpeak</th> \n",
       "        <td id=\"T_54a70426_7740_11e9_8d6f_f45c89cda5bfrow9_col0\" class=\"data row9 col0\" >0.2</td> \n",
       "        <td id=\"T_54a70426_7740_11e9_8d6f_f45c89cda5bfrow9_col1\" class=\"data row9 col1\" >0.14</td> \n",
       "        <td id=\"T_54a70426_7740_11e9_8d6f_f45c89cda5bfrow9_col2\" class=\"data row9 col2\" >-0.11</td> \n",
       "        <td id=\"T_54a70426_7740_11e9_8d6f_f45c89cda5bfrow9_col3\" class=\"data row9 col3\" >0.19</td> \n",
       "        <td id=\"T_54a70426_7740_11e9_8d6f_f45c89cda5bfrow9_col4\" class=\"data row9 col4\" >-0.032</td> \n",
       "        <td id=\"T_54a70426_7740_11e9_8d6f_f45c89cda5bfrow9_col5\" class=\"data row9 col5\" >0.017</td> \n",
       "        <td id=\"T_54a70426_7740_11e9_8d6f_f45c89cda5bfrow9_col6\" class=\"data row9 col6\" >-0.1</td> \n",
       "        <td id=\"T_54a70426_7740_11e9_8d6f_f45c89cda5bfrow9_col7\" class=\"data row9 col7\" >-0.34</td> \n",
       "        <td id=\"T_54a70426_7740_11e9_8d6f_f45c89cda5bfrow9_col8\" class=\"data row9 col8\" >0.29</td> \n",
       "        <td id=\"T_54a70426_7740_11e9_8d6f_f45c89cda5bfrow9_col9\" class=\"data row9 col9\" >1</td> \n",
       "        <td id=\"T_54a70426_7740_11e9_8d6f_f45c89cda5bfrow9_col10\" class=\"data row9 col10\" >-0.54</td> \n",
       "        <td id=\"T_54a70426_7740_11e9_8d6f_f45c89cda5bfrow9_col11\" class=\"data row9 col11\" >0.16</td> \n",
       "        <td id=\"T_54a70426_7740_11e9_8d6f_f45c89cda5bfrow9_col12\" class=\"data row9 col12\" >0.16</td> \n",
       "    </tr>    <tr> \n",
       "        <th id=\"T_54a70426_7740_11e9_8d6f_f45c89cda5bflevel0_row10\" class=\"row_heading level0 row10\" >slope</th> \n",
       "        <td id=\"T_54a70426_7740_11e9_8d6f_f45c89cda5bfrow10_col0\" class=\"data row10 col0\" >-0.097</td> \n",
       "        <td id=\"T_54a70426_7740_11e9_8d6f_f45c89cda5bfrow10_col1\" class=\"data row10 col1\" >-0.032</td> \n",
       "        <td id=\"T_54a70426_7740_11e9_8d6f_f45c89cda5bfrow10_col2\" class=\"data row10 col2\" >0.12</td> \n",
       "        <td id=\"T_54a70426_7740_11e9_8d6f_f45c89cda5bfrow10_col3\" class=\"data row10 col3\" >-0.06</td> \n",
       "        <td id=\"T_54a70426_7740_11e9_8d6f_f45c89cda5bfrow10_col4\" class=\"data row10 col4\" >0.059</td> \n",
       "        <td id=\"T_54a70426_7740_11e9_8d6f_f45c89cda5bfrow10_col5\" class=\"data row10 col5\" >-0.074</td> \n",
       "        <td id=\"T_54a70426_7740_11e9_8d6f_f45c89cda5bfrow10_col6\" class=\"data row10 col6\" >0.11</td> \n",
       "        <td id=\"T_54a70426_7740_11e9_8d6f_f45c89cda5bfrow10_col7\" class=\"data row10 col7\" >0.35</td> \n",
       "        <td id=\"T_54a70426_7740_11e9_8d6f_f45c89cda5bfrow10_col8\" class=\"data row10 col8\" >-0.27</td> \n",
       "        <td id=\"T_54a70426_7740_11e9_8d6f_f45c89cda5bfrow10_col9\" class=\"data row10 col9\" >-0.54</td> \n",
       "        <td id=\"T_54a70426_7740_11e9_8d6f_f45c89cda5bfrow10_col10\" class=\"data row10 col10\" >1</td> \n",
       "        <td id=\"T_54a70426_7740_11e9_8d6f_f45c89cda5bfrow10_col11\" class=\"data row10 col11\" >-0.038</td> \n",
       "        <td id=\"T_54a70426_7740_11e9_8d6f_f45c89cda5bfrow10_col12\" class=\"data row10 col12\" >-0.066</td> \n",
       "    </tr>    <tr> \n",
       "        <th id=\"T_54a70426_7740_11e9_8d6f_f45c89cda5bflevel0_row11\" class=\"row_heading level0 row11\" >ca</th> \n",
       "        <td id=\"T_54a70426_7740_11e9_8d6f_f45c89cda5bfrow11_col0\" class=\"data row11 col0\" >0.31</td> \n",
       "        <td id=\"T_54a70426_7740_11e9_8d6f_f45c89cda5bfrow11_col1\" class=\"data row11 col1\" >0.15</td> \n",
       "        <td id=\"T_54a70426_7740_11e9_8d6f_f45c89cda5bfrow11_col2\" class=\"data row11 col2\" >-0.12</td> \n",
       "        <td id=\"T_54a70426_7740_11e9_8d6f_f45c89cda5bfrow11_col3\" class=\"data row11 col3\" >0.087</td> \n",
       "        <td id=\"T_54a70426_7740_11e9_8d6f_f45c89cda5bfrow11_col4\" class=\"data row11 col4\" >0.078</td> \n",
       "        <td id=\"T_54a70426_7740_11e9_8d6f_f45c89cda5bfrow11_col5\" class=\"data row11 col5\" >0.15</td> \n",
       "        <td id=\"T_54a70426_7740_11e9_8d6f_f45c89cda5bfrow11_col6\" class=\"data row11 col6\" >-0.065</td> \n",
       "        <td id=\"T_54a70426_7740_11e9_8d6f_f45c89cda5bfrow11_col7\" class=\"data row11 col7\" >-0.19</td> \n",
       "        <td id=\"T_54a70426_7740_11e9_8d6f_f45c89cda5bfrow11_col8\" class=\"data row11 col8\" >0.12</td> \n",
       "        <td id=\"T_54a70426_7740_11e9_8d6f_f45c89cda5bfrow11_col9\" class=\"data row11 col9\" >0.16</td> \n",
       "        <td id=\"T_54a70426_7740_11e9_8d6f_f45c89cda5bfrow11_col10\" class=\"data row11 col10\" >-0.038</td> \n",
       "        <td id=\"T_54a70426_7740_11e9_8d6f_f45c89cda5bfrow11_col11\" class=\"data row11 col11\" >1</td> \n",
       "        <td id=\"T_54a70426_7740_11e9_8d6f_f45c89cda5bfrow11_col12\" class=\"data row11 col12\" >0.17</td> \n",
       "    </tr>    <tr> \n",
       "        <th id=\"T_54a70426_7740_11e9_8d6f_f45c89cda5bflevel0_row12\" class=\"row_heading level0 row12\" >thal</th> \n",
       "        <td id=\"T_54a70426_7740_11e9_8d6f_f45c89cda5bfrow12_col0\" class=\"data row12 col0\" >0.039</td> \n",
       "        <td id=\"T_54a70426_7740_11e9_8d6f_f45c89cda5bfrow12_col1\" class=\"data row12 col1\" >0.26</td> \n",
       "        <td id=\"T_54a70426_7740_11e9_8d6f_f45c89cda5bfrow12_col2\" class=\"data row12 col2\" >-0.19</td> \n",
       "        <td id=\"T_54a70426_7740_11e9_8d6f_f45c89cda5bfrow12_col3\" class=\"data row12 col3\" >-0.048</td> \n",
       "        <td id=\"T_54a70426_7740_11e9_8d6f_f45c89cda5bfrow12_col4\" class=\"data row12 col4\" >-0.011</td> \n",
       "        <td id=\"T_54a70426_7740_11e9_8d6f_f45c89cda5bfrow12_col5\" class=\"data row12 col5\" >-0.056</td> \n",
       "        <td id=\"T_54a70426_7740_11e9_8d6f_f45c89cda5bfrow12_col6\" class=\"data row12 col6\" >0.0075</td> \n",
       "        <td id=\"T_54a70426_7740_11e9_8d6f_f45c89cda5bfrow12_col7\" class=\"data row12 col7\" >-0.08</td> \n",
       "        <td id=\"T_54a70426_7740_11e9_8d6f_f45c89cda5bfrow12_col8\" class=\"data row12 col8\" >0.17</td> \n",
       "        <td id=\"T_54a70426_7740_11e9_8d6f_f45c89cda5bfrow12_col9\" class=\"data row12 col9\" >0.16</td> \n",
       "        <td id=\"T_54a70426_7740_11e9_8d6f_f45c89cda5bfrow12_col10\" class=\"data row12 col10\" >-0.066</td> \n",
       "        <td id=\"T_54a70426_7740_11e9_8d6f_f45c89cda5bfrow12_col11\" class=\"data row12 col11\" >0.17</td> \n",
       "        <td id=\"T_54a70426_7740_11e9_8d6f_f45c89cda5bfrow12_col12\" class=\"data row12 col12\" >1</td> \n",
       "    </tr></tbody> \n",
       "</table> "
      ],
      "text/plain": [
       "<pandas.io.formats.style.Styler at 0x1a274e8828>"
      ]
     },
     "execution_count": 172,
     "metadata": {},
     "output_type": "execute_result"
    }
   ],
   "source": [
    "corr = X_train.corr(method='pearson')\n",
    "corr.style.background_gradient(cmap='coolwarm').set_precision(2)"
   ]
  },
  {
   "cell_type": "markdown",
   "metadata": {},
   "source": [
    "### by PCA"
   ]
  },
  {
   "cell_type": "code",
   "execution_count": 336,
   "metadata": {},
   "outputs": [
    {
     "name": "stdout",
     "output_type": "stream",
     "text": [
      "[0.20297727 0.12061673 0.0986222  0.09323243 0.08529401 0.07661577\n",
      " 0.06196282 0.05986412 0.05044968 0.04406285 0.04275677 0.03264916]\n",
      "0.9691038143830293\n"
     ]
    }
   ],
   "source": [
    "from sklearn.decomposition import PCA\n",
    "from sklearn.preprocessing import StandardScaler\n",
    "\n",
    "X_train_scaler = StandardScaler().fit_transform(X_train)\n",
    "pca = PCA(n_components=0.95)\n",
    "pca.fit(X_train_scaler)\n",
    "principalComponents = pca.fit_transform(X_train_scaler)\n",
    "\n",
    "print(pca.explained_variance_ratio_)\n",
    "print(pca.explained_variance_ratio_.sum())\n"
   ]
  },
  {
   "cell_type": "markdown",
   "metadata": {},
   "source": [
    "According to the calcul, if we want to get 95% information, we need to obtains much more dimension. if we use only 2 dimensions, they reserve just 20% and 12% original informations. so feature selectiong by the method pca looks like a bad choice."
   ]
  },
  {
   "cell_type": "code",
   "execution_count": 338,
   "metadata": {},
   "outputs": [
    {
     "data": {
      "image/png": "[encoded data removed]",
      "text/plain": [
       "<Figure size 576x576 with 1 Axes>"
      ]
     },
     "metadata": {},
     "output_type": "display_data"
    }
   ],
   "source": [
    "principalDf = pd.DataFrame(data=principalComponents, columns=['PC1', 'PC2'])\n",
    "target_df = pd.DataFrame(y_train, columns=['target'])\n",
    "finalDf = pd.concat([principalDf, target_df], axis = 1) \n",
    "finalDf.sample(5)\n",
    "\n",
    "plt.figure(figsize = (8, 8))\n",
    "plt.xlabel('PC1', )\n",
    "plt.ylabel('PC2')\n",
    "plt.title(\"2 components's PCA\", size=20)\n",
    "\n",
    "\n",
    "targets = ['0', '1']\n",
    "\n",
    "colors = ['r', 'g']\n",
    "\n",
    "flower_datas = [finalDf[finalDf['target']==0],\n",
    "          finalDf[finalDf['target']==1]]\n",
    "\n",
    "for flower_data, color in zip(flower_datas, colors):\n",
    "    plt.scatter(flower_data.PC1, flower_data.PC2 , c=color, s=50)\n",
    "    plt.legend(targets)\n",
    "    plt.grid()"
   ]
  },
  {
   "cell_type": "markdown",
   "metadata": {},
   "source": [
    "### by chi test"
   ]
  },
  {
   "cell_type": "code",
   "execution_count": 357,
   "metadata": {},
   "outputs": [
    {
     "name": "stdout",
     "output_type": "stream",
     "text": [
      "(227, 13)\n",
      "(227, 2)\n"
     ]
    }
   ],
   "source": [
    "from sklearn.feature_selection import SelectKBest\n",
    "from sklearn.feature_selection import chi2\n",
    "#选择K个最好的特征，返回选择特征后的数据\n",
    "\n",
    "from sklearn.datasets import load_iris\n",
    "from sklearn.feature_selection import SelectKBest\n",
    "from sklearn.feature_selection import chi2\n",
    "\n",
    "\n",
    "X_train_chi = SelectKBest(chi2, k=2).fit_transform(X_train, y_train)\n",
    "X_test_chi = SelectKBest(chi2, k=2).fit_transform(X_test, y_test)\n",
    "\n",
    "\n",
    "print(X_train.shape)\n",
    "print(X_train_chi.shape)\n"
   ]
  },
  {
   "cell_type": "code",
   "execution_count": 356,
   "metadata": {},
   "outputs": [
    {
     "data": {
      "image/png": "[encoded data removed]",
      "text/plain": [
       "<Figure size 576x576 with 1 Axes>"
      ]
     },
     "metadata": {},
     "output_type": "display_data"
    }
   ],
   "source": [
    "#principalDf = pd.DataFrame(data=principalComponents, columns=['PC1', 'PC2'])\n",
    "x_df = pd.DataFrame(data = X_train_chi,columns=['PC1', 'PC2'])\n",
    "target_df = pd.DataFrame(y_train, columns=['target'])\n",
    "finalDf = pd.concat([x_df, target_df], axis = 1) \n",
    "finalDf.sample(5)\n",
    "\n",
    "plt.figure(figsize = (8, 8))\n",
    "plt.xlabel('PC1', )\n",
    "plt.ylabel('PC2')\n",
    "plt.title(\"2 components's PCA\", size=20)\n",
    "\n",
    "targets = ['0', '1']\n",
    "\n",
    "colors = ['g', 'r']\n",
    "\n",
    "\n",
    "flower_datas = [finalDf[finalDf['target']==0],\n",
    "          finalDf[finalDf['target']==1]]\n",
    "\n",
    "for flower_data, color in zip(flower_datas, colors):\n",
    "    plt.scatter(flower_data.PC1, flower_data.PC2 , c=color, s=50)\n",
    "    plt.legend(targets)\n",
    "    plt.grid()"
   ]
  },
  {
   "cell_type": "markdown",
   "metadata": {},
   "source": [
    "### by RandomizedLogisticRegression"
   ]
  },
  {
   "cell_type": "code",
   "execution_count": 174,
   "metadata": {},
   "outputs": [
    {
     "name": "stdout",
     "output_type": "stream",
     "text": [
      "        0         1\n",
      "0   0.630     exang\n",
      "1   0.595        ca\n",
      "2   0.560   thalach\n",
      "3   0.545        cp\n",
      "4   0.525   oldpeak\n",
      "5   0.470      thal\n",
      "6   0.455       sex\n",
      "7   0.315     slope\n",
      "8   0.095       age\n",
      "9   0.070   restecg\n",
      "10  0.020  trestbps\n",
      "11  0.000       fbs\n",
      "12  0.000      chol\n"
     ]
    }
   ],
   "source": [
    "from sklearn.linear_model import RandomizedLogisticRegression\n",
    "rlasso_balanced_data = RandomizedLogisticRegression(C=1,random_state=41)\n",
    "rlasso_balanced_data.fit(X_train, np.ravel(y_train))\n",
    "m0=sorted(zip(map(lambda x: round(x, 8), rlasso_balanced_data.scores_),X_train.columns), reverse=True)\n",
    "m0=pd.DataFrame(m0)\n",
    "print(m0)"
   ]
  },
  {
   "cell_type": "code",
   "execution_count": 175,
   "metadata": {},
   "outputs": [
    {
     "name": "stdout",
     "output_type": "stream",
     "text": [
      "Number of features from original dataset： 13\n",
      "Features selected： 8\n"
     ]
    },
    {
     "data": {
      "text/plain": [
       "['exang', 'ca', 'thalach', 'cp', 'oldpeak', 'thal', 'sex', 'slope']"
      ]
     },
     "execution_count": 175,
     "metadata": {},
     "output_type": "execute_result"
    }
   ],
   "source": [
    "n0=m0[m0[0]>0.1]\n",
    "n0_blanced_data=list(n0[1]) \n",
    "print('Number of features from original dataset：',len(X_train.columns))\n",
    "print('Features selected：',len(n0))\n",
    "n0_blanced_data"
   ]
  },
  {
   "cell_type": "code",
   "execution_count": null,
   "metadata": {},
   "outputs": [],
   "source": []
  },
  {
   "cell_type": "markdown",
   "metadata": {},
   "source": [
    "## Model logisticregression"
   ]
  },
  {
   "cell_type": "markdown",
   "metadata": {},
   "source": [
    "- feature selected by pca"
   ]
  },
  {
   "cell_type": "markdown",
   "metadata": {},
   "source": [
    "### features selected by logistic regression \n",
    "\n",
    "在分类情形下，经过学习后的LR分类器是一组权值w0,w1,w2...wn，当测试样本的数据输入时，这组权值与测试数据按\n",
    "\n",
    "照线性加和得到 x = x0+w1x1+w2x2+w3x3+...wnxn，这里是每个样本的个特征。\n",
    "\n",
    "按照sigmoid函数的形式求出 ，其中sigmoid函数的定义域为，值域为，因此最基本的LR分类器适合对两类目标进行分类。\n",
    "\n",
    "所以Logistic回归最关键的问题就是研究如何求得这组权值。这个问题是用极大似然估计来做的。\n",
    "https://blog.csdn.net/loveliuzz/article/details/78708359"
   ]
  },
  {
   "cell_type": "markdown",
   "metadata": {},
   "source": [
    "The score with different features "
   ]
  },
  {
   "cell_type": "code",
   "execution_count": 277,
   "metadata": {},
   "outputs": [
    {
     "name": "stdout",
     "output_type": "stream",
     "text": [
      "The score of model regression logistic for training  3  features:  0.7543859649122807\n",
      "The score of model regression logistic for training  4  features:  0.7894736842105263\n",
      "The score of model regression logistic for training  5  features:  0.8245614035087719\n",
      "The score of model regression logistic for training  6  features:  0.8771929824561403\n",
      "The score of model regression logistic for training  7  features:  0.8421052631578947\n",
      "The score of model regression logistic for training  8  features:  0.8596491228070176\n"
     ]
    }
   ],
   "source": [
    "from sklearn.linear_model import LogisticRegression\n",
    "p=0\n",
    "for i in range(3,len(n0_blanced_data)+1):\n",
    "    s0 = n0_blanced_data[0:i]\n",
    "    model_RL = LogisticRegression(C=1e5)\n",
    "    model_RL.fit(X_train[s0],np.ravel(y_train))\n",
    "    predict_y = model_RL.predict(X_test[s0])\n",
    "    p += np.mean(predict_y==y_test['target'])\n",
    "    print('The score of model regression logistic for training ',i,' features: ',model_RL.score(X_test[s0],y_test))\n"
   ]
  },
  {
   "cell_type": "code",
   "execution_count": null,
   "metadata": {},
   "outputs": [],
   "source": []
  },
  {
   "cell_type": "code",
   "execution_count": 177,
   "metadata": {},
   "outputs": [
    {
     "name": "stdout",
     "output_type": "stream",
     "text": [
      "select features for model is ['exang', 'ca', 'thalach', 'cp', 'oldpeak', 'thal']\n"
     ]
    }
   ],
   "source": [
    "n0_use = n0_blanced_data[:6]\n",
    "print('select features for model is',n0_use)"
   ]
  },
  {
   "cell_type": "markdown",
   "metadata": {},
   "source": [
    "### evaluate the model of data with ROC curve"
   ]
  },
  {
   "cell_type": "code",
   "execution_count": 242,
   "metadata": {},
   "outputs": [
    {
     "name": "stdout",
     "output_type": "stream",
     "text": [
      "准确率： 0.819187527448397 [0.82608696 0.76086957 0.89130435 0.82222222 0.79545455]\n",
      "精确率： 0.8160686158161614 [0.8        0.74193548 0.95652174 0.77419355 0.80769231]\n",
      "召回率： 0.8907692307692308 [0.92307692 0.88461538 0.84615385 0.96       0.84      ]\n",
      "综合评价指标： 0.8485583707167077 [0.85714286 0.80701754 0.89795918 0.85714286 0.82352941]\n"
     ]
    }
   ],
   "source": [
    "#效果评估：  \n",
    "#准确率：scikit-learn提供了accuracy_score来计算：LogisticRegression.score()  \n",
    "#准确率是分类器预测正确性的比例，但是并不能分辨出假阳性错误和假阴性错误 \n",
    "#精确率和召回率：  \n",
    "#精确率是指分类器预测出的垃圾短信中真的是垃圾短信的比例，P=TP/(TP+FP)  \n",
    "#召回率在医学上也叫做灵敏度，在本例中知所有真的垃圾短信被分类器正确找出来的比例，R=TP/(TP+FN)  \n",
    "\n",
    "from sklearn.model_selection import train_test_split, cross_val_score\n",
    "scores = cross_val_score(model_RL,X_train,y_train,cv=5)  \n",
    "print('准确率：',np.mean(scores),scores)  \n",
    "precisions = cross_val_score(model_RL, X_train, y_train, cv=5, scoring='precision')  \n",
    "print('精确率：', np.mean(precisions), precisions)  \n",
    "recalls = cross_val_score(model_RL, X_train, y_train, cv=5, scoring='recall')  \n",
    "print('召回率：', np.mean(recalls), recalls) \n",
    "#综合评价指标  \n",
    "f1s = cross_val_score(model_RL, X_train, y_train, cv=5, scoring='f1')  \n",
    "print('综合评价指标：', np.mean(f1s), f1s)  \n",
    "#综合评价指标是80%。由于精确率和召回率的差异比较小，所以综合评价指标的罚值也比较小。有时也会用F0.5和F2，表示精确率权重大于召回率，或召回率权重大于精确率。  "
   ]
  },
  {
   "cell_type": "code",
   "execution_count": 182,
   "metadata": {
    "scrolled": true
   },
   "outputs": [
    {
     "data": {
      "image/png": "[encoded data removed]",
      "text/plain": [
       "<Figure size 360x360 with 1 Axes>"
      ]
     },
     "metadata": {},
     "output_type": "display_data"
    },
    {
     "name": "stdout",
     "output_type": "stream",
     "text": [
      "0.924317617866005\n"
     ]
    }
   ],
   "source": [
    "from sklearn.metrics import roc_curve\n",
    "\n",
    "model_RL = LogisticRegression(C=1e5)\n",
    "model_RL.fit(X_train[n0_use],np.ravel(y_train))\n",
    "predict_prob_RL = model_RL.predict_proba(X_test[n0_use])\n",
    " \n",
    "fpr,tpr,threshold = roc_curve(y_test,predict_prob_RL[:,1])\n",
    " \n",
    "plt.figure(figsize=(5,5))\n",
    "plt.plot(fpr,tpr)\n",
    "plt.xlabel('False positive rate')\n",
    "plt.ylabel('True positive rate')\n",
    "plt.title('ROC curve of data model')\n",
    "plt.show()\n",
    " \n",
    "#roc cure\n",
    "from sklearn.metrics import roc_auc_score\n",
    "score = roc_auc_score(y_test,predict_prob_RL[:,1])\n",
    "print(score)"
   ]
  },
  {
   "cell_type": "code",
   "execution_count": 185,
   "metadata": {
    "scrolled": true
   },
   "outputs": [
    {
     "name": "stdout",
     "output_type": "stream",
     "text": [
      "              precision    recall  f1-score   support\n",
      "\n",
      "         neg       0.72      0.88      0.79        26\n",
      "         pos       0.88      0.71      0.79        31\n",
      "\n",
      "   micro avg       0.79      0.79      0.79        57\n",
      "   macro avg       0.80      0.80      0.79        57\n",
      "weighted avg       0.81      0.79      0.79        57\n",
      "\n",
      "average precision: 0.049473684210526316\n"
     ]
    }
   ],
   "source": [
    "from sklearn.metrics import classification_report\n",
    "from sklearn.metrics import precision_recall_curve#, roc_curve, auc \n",
    "\n",
    "answer = predict_prob_RL[:,1]  \n",
    "precision, recall, thresholds = precision_recall_curve(y_test, answer)      \n",
    "report = answer > 0.7  \n",
    "print(classification_report(y_test, report, target_names = ['neg', 'pos']))  \n",
    "print(\"average precision:\", p/100)  \n"
   ]
  },
  {
   "cell_type": "code",
   "execution_count": null,
   "metadata": {},
   "outputs": [],
   "source": []
  },
  {
   "cell_type": "code",
   "execution_count": 186,
   "metadata": {},
   "outputs": [
    {
     "data": {
      "text/plain": [
       "Text(0.5,1,'classification')"
      ]
     },
     "execution_count": 186,
     "metadata": {},
     "output_type": "execute_result"
    },
    {
     "data": {
      "image/png": "[encoded data removed]",
      "text/plain": [
       "<Figure size 864x648 with 1 Axes>"
      ]
     },
     "metadata": {},
     "output_type": "display_data"
    }
   ],
   "source": [
    "len_x_test = range(len(X_test))\n",
    "plt.figure(figsize=(12,9),facecolor=\"w\")\n",
    "plt.ylim(0.5,3.5)\n",
    "plt.plot(len_x_test,y_test,\"ro\",markersize=6,zorder=3,label=u\"real value\")\n",
    "plt.plot(len_x_test,predict_y,\"go\",markersize=10,zorder=2,label=u\"Logis predict values,$R^2=%.3f$\" %model_RL.score(X_test[n0_use],y_test) )\n",
    "plt.legend(loc = 'lower right')\n",
    "plt.xlabel(u'number of data', fontsize=18)\n",
    "plt.ylabel(u'class', fontsize=18)\n",
    "plt.title(u'classification', fontsize=20)"
   ]
  },
  {
   "cell_type": "markdown",
   "metadata": {},
   "source": [
    "### evaluate the model of data with lift curve"
   ]
  },
  {
   "cell_type": "code",
   "execution_count": 233,
   "metadata": {
    "scrolled": true
   },
   "outputs": [
    {
     "data": {
      "image/png": "[encoded data removed]",
      "text/plain": [
       "<Figure size 432x288 with 1 Axes>"
      ]
     },
     "metadata": {},
     "output_type": "display_data"
    }
   ],
   "source": [
    "import scikitplot as skplt\n",
    "skplt.metrics.plot_cumulative_gain(y_test, predict_prob_RL)\n",
    "plt.show()"
   ]
  },
  {
   "cell_type": "markdown",
   "metadata": {},
   "source": [
    "### features selected by logistic regression"
   ]
  },
  {
   "cell_type": "code",
   "execution_count": null,
   "metadata": {},
   "outputs": [],
   "source": []
  },
  {
   "cell_type": "code",
   "execution_count": null,
   "metadata": {},
   "outputs": [],
   "source": []
  }
 ],
 "metadata": {
  "kernelspec": {
   "display_name": "Python 3",
   "language": "python",
   "name": "python3"
  },
  "language_info": {
   "codemirror_mode": {
    "name": "ipython",
    "version": 3
   },
   "file_extension": ".py",
   "mimetype": "text/x-python",
   "name": "python",
   "nbconvert_exporter": "python",
   "pygments_lexer": "ipython3",
   "version": "3.6.5"
  },
  "toc": {
   "base_numbering": 1,
   "nav_menu": {},
   "number_sections": true,
   "sideBar": true,
   "skip_h1_title": false,
   "title_cell": "Table of Contents",
   "title_sidebar": "Contents",
   "toc_cell": true,
   "toc_position": {
    "height": "calc(100% - 180px)",
    "left": "10px",
    "top": "150px",
    "width": "251px"
   },
   "toc_section_display": true,
   "toc_window_display": true
  }
 },
 "nbformat": 4,
 "nbformat_minor": 2
}
